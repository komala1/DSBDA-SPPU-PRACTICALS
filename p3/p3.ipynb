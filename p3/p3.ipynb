{
 "cells": [
  {
   "cell_type": "markdown",
   "metadata": {},
   "source": [
    "Perform the following operations on iris dataset\n",
    "1. Display mean, median, minimum, maximum, standard deviation\n",
    "2. Provide mean, median, minimum, maximum, standard deviation for a\n",
    "given dataset by grouping using one of the qualitative (categorical)\n",
    "variable\n",
    "3. Display missing values and inconsistencies.\n",
    "4. Replace missing values using any 2 suitable"
   ]
  },
  {
   "cell_type": "code",
   "execution_count": 2,
   "metadata": {},
   "outputs": [],
   "source": [
    "import pandas as pd\n",
    "import numpy as np\n",
    "import statistics"
   ]
  },
  {
   "cell_type": "code",
   "execution_count": 3,
   "metadata": {},
   "outputs": [],
   "source": [
    "df=pd.read_csv(\"iris.csv\")"
   ]
  },
  {
   "cell_type": "code",
   "execution_count": 4,
   "metadata": {},
   "outputs": [
    {
     "name": "stderr",
     "output_type": "stream",
     "text": [
      "C:\\Users\\HP\\AppData\\Local\\Temp\\ipykernel_22888\\1480045039.py:2: FutureWarning: The provided callable <function sum at 0x000001EAD012FF40> is currently using SeriesGroupBy.sum. In a future version of pandas, the provided callable will be used directly. To keep current behavior pass the string \"sum\" instead.\n",
      "  data.agg([np.sum, np.mean, np.max,np.std])\n",
      "C:\\Users\\HP\\AppData\\Local\\Temp\\ipykernel_22888\\1480045039.py:2: FutureWarning: The provided callable <function mean at 0x000001EAD0154EE0> is currently using SeriesGroupBy.mean. In a future version of pandas, the provided callable will be used directly. To keep current behavior pass the string \"mean\" instead.\n",
      "  data.agg([np.sum, np.mean, np.max,np.std])\n",
      "C:\\Users\\HP\\AppData\\Local\\Temp\\ipykernel_22888\\1480045039.py:2: FutureWarning: The provided callable <function max at 0x000001EAD01545E0> is currently using SeriesGroupBy.max. In a future version of pandas, the provided callable will be used directly. To keep current behavior pass the string \"max\" instead.\n",
      "  data.agg([np.sum, np.mean, np.max,np.std])\n",
      "C:\\Users\\HP\\AppData\\Local\\Temp\\ipykernel_22888\\1480045039.py:2: FutureWarning: The provided callable <function std at 0x000001EAD0155000> is currently using SeriesGroupBy.std. In a future version of pandas, the provided callable will be used directly. To keep current behavior pass the string \"std\" instead.\n",
      "  data.agg([np.sum, np.mean, np.max,np.std])\n",
      "C:\\Users\\HP\\AppData\\Local\\Temp\\ipykernel_22888\\1480045039.py:2: FutureWarning: The provided callable <function sum at 0x000001EAD012FF40> is currently using SeriesGroupBy.sum. In a future version of pandas, the provided callable will be used directly. To keep current behavior pass the string \"sum\" instead.\n",
      "  data.agg([np.sum, np.mean, np.max,np.std])\n"
     ]
    },
    {
     "data": {
      "text/html": [
       "<div>\n",
       "<style scoped>\n",
       "    .dataframe tbody tr th:only-of-type {\n",
       "        vertical-align: middle;\n",
       "    }\n",
       "\n",
       "    .dataframe tbody tr th {\n",
       "        vertical-align: top;\n",
       "    }\n",
       "\n",
       "    .dataframe thead tr th {\n",
       "        text-align: left;\n",
       "    }\n",
       "\n",
       "    .dataframe thead tr:last-of-type th {\n",
       "        text-align: right;\n",
       "    }\n",
       "</style>\n",
       "<table border=\"1\" class=\"dataframe\">\n",
       "  <thead>\n",
       "    <tr>\n",
       "      <th></th>\n",
       "      <th colspan=\"4\" halign=\"left\">Id</th>\n",
       "      <th colspan=\"4\" halign=\"left\">SepalLengthCm</th>\n",
       "      <th colspan=\"4\" halign=\"left\">SepalWidthCm</th>\n",
       "      <th colspan=\"4\" halign=\"left\">PetalLengthCm</th>\n",
       "      <th colspan=\"4\" halign=\"left\">PetalWidthCm</th>\n",
       "    </tr>\n",
       "    <tr>\n",
       "      <th></th>\n",
       "      <th>sum</th>\n",
       "      <th>mean</th>\n",
       "      <th>max</th>\n",
       "      <th>std</th>\n",
       "      <th>sum</th>\n",
       "      <th>mean</th>\n",
       "      <th>max</th>\n",
       "      <th>std</th>\n",
       "      <th>sum</th>\n",
       "      <th>mean</th>\n",
       "      <th>max</th>\n",
       "      <th>std</th>\n",
       "      <th>sum</th>\n",
       "      <th>mean</th>\n",
       "      <th>max</th>\n",
       "      <th>std</th>\n",
       "      <th>sum</th>\n",
       "      <th>mean</th>\n",
       "      <th>max</th>\n",
       "      <th>std</th>\n",
       "    </tr>\n",
       "    <tr>\n",
       "      <th>Species</th>\n",
       "      <th></th>\n",
       "      <th></th>\n",
       "      <th></th>\n",
       "      <th></th>\n",
       "      <th></th>\n",
       "      <th></th>\n",
       "      <th></th>\n",
       "      <th></th>\n",
       "      <th></th>\n",
       "      <th></th>\n",
       "      <th></th>\n",
       "      <th></th>\n",
       "      <th></th>\n",
       "      <th></th>\n",
       "      <th></th>\n",
       "      <th></th>\n",
       "      <th></th>\n",
       "      <th></th>\n",
       "      <th></th>\n",
       "      <th></th>\n",
       "    </tr>\n",
       "  </thead>\n",
       "  <tbody>\n",
       "    <tr>\n",
       "      <th>Iris-setosa</th>\n",
       "      <td>1275</td>\n",
       "      <td>25.5</td>\n",
       "      <td>50</td>\n",
       "      <td>14.57738</td>\n",
       "      <td>250.3</td>\n",
       "      <td>5.006</td>\n",
       "      <td>5.8</td>\n",
       "      <td>0.352490</td>\n",
       "      <td>170.9</td>\n",
       "      <td>3.418</td>\n",
       "      <td>4.4</td>\n",
       "      <td>0.381024</td>\n",
       "      <td>73.2</td>\n",
       "      <td>1.464</td>\n",
       "      <td>1.9</td>\n",
       "      <td>0.173511</td>\n",
       "      <td>12.2</td>\n",
       "      <td>0.244</td>\n",
       "      <td>0.6</td>\n",
       "      <td>0.107210</td>\n",
       "    </tr>\n",
       "    <tr>\n",
       "      <th>Iris-versicolor</th>\n",
       "      <td>3775</td>\n",
       "      <td>75.5</td>\n",
       "      <td>100</td>\n",
       "      <td>14.57738</td>\n",
       "      <td>296.8</td>\n",
       "      <td>5.936</td>\n",
       "      <td>7.0</td>\n",
       "      <td>0.516171</td>\n",
       "      <td>138.5</td>\n",
       "      <td>2.770</td>\n",
       "      <td>3.4</td>\n",
       "      <td>0.313798</td>\n",
       "      <td>213.0</td>\n",
       "      <td>4.260</td>\n",
       "      <td>5.1</td>\n",
       "      <td>0.469911</td>\n",
       "      <td>66.3</td>\n",
       "      <td>1.326</td>\n",
       "      <td>1.8</td>\n",
       "      <td>0.197753</td>\n",
       "    </tr>\n",
       "    <tr>\n",
       "      <th>Iris-virginica</th>\n",
       "      <td>6275</td>\n",
       "      <td>125.5</td>\n",
       "      <td>150</td>\n",
       "      <td>14.57738</td>\n",
       "      <td>329.4</td>\n",
       "      <td>6.588</td>\n",
       "      <td>7.9</td>\n",
       "      <td>0.635880</td>\n",
       "      <td>148.7</td>\n",
       "      <td>2.974</td>\n",
       "      <td>3.8</td>\n",
       "      <td>0.322497</td>\n",
       "      <td>277.6</td>\n",
       "      <td>5.552</td>\n",
       "      <td>6.9</td>\n",
       "      <td>0.551895</td>\n",
       "      <td>101.3</td>\n",
       "      <td>2.026</td>\n",
       "      <td>2.5</td>\n",
       "      <td>0.274650</td>\n",
       "    </tr>\n",
       "  </tbody>\n",
       "</table>\n",
       "</div>"
      ],
      "text/plain": [
       "                   Id                       SepalLengthCm              \\\n",
       "                  sum   mean  max       std           sum   mean  max   \n",
       "Species                                                                 \n",
       "Iris-setosa      1275   25.5   50  14.57738         250.3  5.006  5.8   \n",
       "Iris-versicolor  3775   75.5  100  14.57738         296.8  5.936  7.0   \n",
       "Iris-virginica   6275  125.5  150  14.57738         329.4  6.588  7.9   \n",
       "\n",
       "                          SepalWidthCm                       PetalLengthCm  \\\n",
       "                      std          sum   mean  max       std           sum   \n",
       "Species                                                                      \n",
       "Iris-setosa      0.352490        170.9  3.418  4.4  0.381024          73.2   \n",
       "Iris-versicolor  0.516171        138.5  2.770  3.4  0.313798         213.0   \n",
       "Iris-virginica   0.635880        148.7  2.974  3.8  0.322497         277.6   \n",
       "\n",
       "                                      PetalWidthCm                        \n",
       "                  mean  max       std          sum   mean  max       std  \n",
       "Species                                                                   \n",
       "Iris-setosa      1.464  1.9  0.173511         12.2  0.244  0.6  0.107210  \n",
       "Iris-versicolor  4.260  5.1  0.469911         66.3  1.326  1.8  0.197753  \n",
       "Iris-virginica   5.552  6.9  0.551895        101.3  2.026  2.5  0.274650  "
      ]
     },
     "execution_count": 4,
     "metadata": {},
     "output_type": "execute_result"
    }
   ],
   "source": [
    "data = df.groupby([\"Species\"])\n",
    "data.agg([np.sum, np.mean, np.max,np.std])"
   ]
  },
  {
   "cell_type": "code",
   "execution_count": 5,
   "metadata": {},
   "outputs": [
    {
     "data": {
      "text/plain": [
       "Species\n",
       "Iris-setosa        3.4\n",
       "Iris-versicolor    3.0\n",
       "Iris-virginica     3.0\n",
       "Name: SepalWidthCm, dtype: float64"
      ]
     },
     "execution_count": 5,
     "metadata": {},
     "output_type": "execute_result"
    }
   ],
   "source": [
    "df.groupby([\"Species\"])[\"SepalWidthCm\"].apply(statistics.mode)"
   ]
  },
  {
   "cell_type": "code",
   "execution_count": 6,
   "metadata": {},
   "outputs": [
    {
     "data": {
      "text/plain": [
       "Id               0\n",
       "SepalLengthCm    0\n",
       "SepalWidthCm     0\n",
       "PetalLengthCm    0\n",
       "PetalWidthCm     0\n",
       "Species          0\n",
       "dtype: int64"
      ]
     },
     "execution_count": 6,
     "metadata": {},
     "output_type": "execute_result"
    }
   ],
   "source": [
    "df.isnull().sum()"
   ]
  },
  {
   "cell_type": "code",
   "execution_count": 14,
   "metadata": {},
   "outputs": [
    {
     "name": "stderr",
     "output_type": "stream",
     "text": [
      "C:\\Users\\HP\\AppData\\Local\\Temp\\ipykernel_22888\\3630700459.py:2: FutureWarning: The provided callable <function sum at 0x000001EAD012FF40> is currently using SeriesGroupBy.sum. In a future version of pandas, the provided callable will be used directly. To keep current behavior pass the string \"sum\" instead.\n",
      "  data.agg([np.sum,np.min,np.max,np.std,statistics.mode,np.median])\n",
      "C:\\Users\\HP\\AppData\\Local\\Temp\\ipykernel_22888\\3630700459.py:2: FutureWarning: The provided callable <function min at 0x000001EAD0154700> is currently using SeriesGroupBy.min. In a future version of pandas, the provided callable will be used directly. To keep current behavior pass the string \"min\" instead.\n",
      "  data.agg([np.sum,np.min,np.max,np.std,statistics.mode,np.median])\n",
      "C:\\Users\\HP\\AppData\\Local\\Temp\\ipykernel_22888\\3630700459.py:2: FutureWarning: The provided callable <function max at 0x000001EAD01545E0> is currently using SeriesGroupBy.max. In a future version of pandas, the provided callable will be used directly. To keep current behavior pass the string \"max\" instead.\n",
      "  data.agg([np.sum,np.min,np.max,np.std,statistics.mode,np.median])\n",
      "C:\\Users\\HP\\AppData\\Local\\Temp\\ipykernel_22888\\3630700459.py:2: FutureWarning: The provided callable <function std at 0x000001EAD0155000> is currently using SeriesGroupBy.std. In a future version of pandas, the provided callable will be used directly. To keep current behavior pass the string \"std\" instead.\n",
      "  data.agg([np.sum,np.min,np.max,np.std,statistics.mode,np.median])\n",
      "C:\\Users\\HP\\AppData\\Local\\Temp\\ipykernel_22888\\3630700459.py:2: FutureWarning: The provided callable <function median at 0x000001EAD026BF40> is currently using SeriesGroupBy.median. In a future version of pandas, the provided callable will be used directly. To keep current behavior pass the string \"median\" instead.\n",
      "  data.agg([np.sum,np.min,np.max,np.std,statistics.mode,np.median])\n"
     ]
    },
    {
     "data": {
      "text/html": [
       "<div>\n",
       "<style scoped>\n",
       "    .dataframe tbody tr th:only-of-type {\n",
       "        vertical-align: middle;\n",
       "    }\n",
       "\n",
       "    .dataframe tbody tr th {\n",
       "        vertical-align: top;\n",
       "    }\n",
       "\n",
       "    .dataframe thead th {\n",
       "        text-align: right;\n",
       "    }\n",
       "</style>\n",
       "<table border=\"1\" class=\"dataframe\">\n",
       "  <thead>\n",
       "    <tr style=\"text-align: right;\">\n",
       "      <th></th>\n",
       "      <th>sum</th>\n",
       "      <th>min</th>\n",
       "      <th>max</th>\n",
       "      <th>std</th>\n",
       "      <th>mode</th>\n",
       "      <th>median</th>\n",
       "    </tr>\n",
       "    <tr>\n",
       "      <th>Species</th>\n",
       "      <th></th>\n",
       "      <th></th>\n",
       "      <th></th>\n",
       "      <th></th>\n",
       "      <th></th>\n",
       "      <th></th>\n",
       "    </tr>\n",
       "  </thead>\n",
       "  <tbody>\n",
       "    <tr>\n",
       "      <th>Iris-setosa</th>\n",
       "      <td>170.9</td>\n",
       "      <td>2.3</td>\n",
       "      <td>4.4</td>\n",
       "      <td>0.381024</td>\n",
       "      <td>3.4</td>\n",
       "      <td>3.4</td>\n",
       "    </tr>\n",
       "    <tr>\n",
       "      <th>Iris-versicolor</th>\n",
       "      <td>138.5</td>\n",
       "      <td>2.0</td>\n",
       "      <td>3.4</td>\n",
       "      <td>0.313798</td>\n",
       "      <td>3.0</td>\n",
       "      <td>2.8</td>\n",
       "    </tr>\n",
       "    <tr>\n",
       "      <th>Iris-virginica</th>\n",
       "      <td>148.7</td>\n",
       "      <td>2.2</td>\n",
       "      <td>3.8</td>\n",
       "      <td>0.322497</td>\n",
       "      <td>3.0</td>\n",
       "      <td>3.0</td>\n",
       "    </tr>\n",
       "  </tbody>\n",
       "</table>\n",
       "</div>"
      ],
      "text/plain": [
       "                   sum  min  max       std  mode  median\n",
       "Species                                                 \n",
       "Iris-setosa      170.9  2.3  4.4  0.381024   3.4     3.4\n",
       "Iris-versicolor  138.5  2.0  3.4  0.313798   3.0     2.8\n",
       "Iris-virginica   148.7  2.2  3.8  0.322497   3.0     3.0"
      ]
     },
     "execution_count": 14,
     "metadata": {},
     "output_type": "execute_result"
    }
   ],
   "source": [
    "data = df.groupby([\"Species\"])[\"SepalWidthCm\"]\n",
    "data.agg([np.sum,np.min,np.max,np.std,statistics.mode,np.median])"
   ]
  }
 ],
 "metadata": {
  "kernelspec": {
   "display_name": "Python 3",
   "language": "python",
   "name": "python3"
  },
  "language_info": {
   "codemirror_mode": {
    "name": "ipython",
    "version": 3
   },
   "file_extension": ".py",
   "mimetype": "text/x-python",
   "name": "python",
   "nbconvert_exporter": "python",
   "pygments_lexer": "ipython3",
   "version": "3.10.4"
  }
 },
 "nbformat": 4,
 "nbformat_minor": 2
}
